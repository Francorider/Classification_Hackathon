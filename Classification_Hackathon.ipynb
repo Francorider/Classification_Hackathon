{
  "nbformat": 4,
  "nbformat_minor": 0,
  "metadata": {
    "colab": {
      "name": "Classification_Hackathon",
      "version": "0.3.2",
      "provenance": [],
      "include_colab_link": true
    },
    "language_info": {
      "codemirror_mode": {
        "name": "ipython",
        "version": 3
      },
      "file_extension": ".py",
      "mimetype": "text/x-python",
      "name": "python",
      "nbconvert_exporter": "python",
      "pygments_lexer": "ipython3",
      "version": "3.7.1"
    },
    "kernelspec": {
      "display_name": "Python 3",
      "language": "python",
      "name": "python3"
    }
  },
  "cells": [
    {
      "cell_type": "markdown",
      "metadata": {
        "id": "view-in-github",
        "colab_type": "text"
      },
      "source": [
        "<a href=\"https://colab.research.google.com/github/Francorider/Classification_Hackathon/blob/master/Classification_Hackathon.ipynb\" target=\"_parent\"><img src=\"https://colab.research.google.com/assets/colab-badge.svg\" alt=\"Open In Colab\"/></a>"
      ]
    },
    {
      "cell_type": "markdown",
      "metadata": {
        "id": "AUNy_ZcTpAlE",
        "colab_type": "text"
      },
      "source": [
        "## Honour Code\n",
        "I, FRANCOIS VILJOEN, confirm - by submitting my - that the solutions in this notebook are a result of my own work and that I abide by the EDSA honour code (https://drive.google.com/file/d/1QDCjGZJ8-FmJE3bZdIQNwnJyQKPhHZBn/view?usp=sharing).\n",
        "\n",
        "Non-compliance with the honour code constitutes a material breach of contract."
      ]
    },
    {
      "cell_type": "code",
      "metadata": {
        "id": "HI2l0glopAlF",
        "colab_type": "code",
        "colab": {}
      },
      "source": [
        "# IMPORT MODULES\n",
        "import numpy as np\n",
        "import pandas as pd\n",
        "from sklearn.linear_model import LogisticRegression\n",
        "from sklearn.ensemble import RandomForestClassifier\n",
        "from sklearn.metrics import confusion_matrix, cohen_kappa_score\n",
        "from sklearn.metrics import f1_score, recall_score\n",
        "from sklearn.model_selection import train_test_split\n",
        "from sklearn.utils import resample\n",
        "from imblearn.over_sampling import SMOTE\n",
        "from sklearn.model_selection import GridSearchCV"
      ],
      "execution_count": 0,
      "outputs": []
    },
    {
      "cell_type": "code",
      "metadata": {
        "id": "zeGUL1m5pAlI",
        "colab_type": "code",
        "colab": {}
      },
      "source": [
        "# IMPORT DATA\n",
        "train = pd.read_csv('training.csv')\n",
        "test = pd.read_csv('test.csv')\n",
        "sample_submission = pd.read_csv('sample_submission.csv')"
      ],
      "execution_count": 0,
      "outputs": []
    },
    {
      "cell_type": "code",
      "metadata": {
        "id": "v2-P1pqRpAlL",
        "colab_type": "code",
        "colab": {}
      },
      "source": [
        "# DROP COLUMNS THAT APPEAR IRRELEVANT\n",
        "train_dropped = train.drop(['BatchId', 'AccountId', 'SubscriptionId', 'CustomerId', 'CurrencyCode', 'CountryCode', 'TransactionStartTime'], axis = 1)\n",
        "\n",
        "test_dropped = test.drop(['BatchId', 'AccountId', 'SubscriptionId', 'CustomerId', 'CurrencyCode', 'CountryCode', 'TransactionStartTime'], axis = 1)"
      ],
      "execution_count": 0,
      "outputs": []
    },
    {
      "cell_type": "code",
      "metadata": {
        "id": "xyf3Qy3SpAlN",
        "colab_type": "code",
        "colab": {}
      },
      "source": [
        "# MAKE SUBSETS OF DATA\n",
        "\n",
        "train_sub = train_dropped.copy()\n",
        "\n",
        "test_sub = test_dropped.copy()"
      ],
      "execution_count": 0,
      "outputs": []
    },
    {
      "cell_type": "code",
      "metadata": {
        "id": "j0zRQjiUpAlP",
        "colab_type": "code",
        "colab": {}
      },
      "source": [
        "# ENCODE NUMERICAL COLUMNS TO INTEGERS FOR TRAINING DATA\n",
        "train_sub['TransactionId'] = train_sub['TransactionId'].str.split('_').str[1]\n",
        "\n",
        "train_sub['ProviderId'] = train_sub['ProviderId'].str.split('_').str[1]\n",
        "\n",
        "train_sub['ProductId'] = train_sub['ProductId'].str.split('_').str[1]\n",
        "\n",
        "train_sub['ChannelId'] = train_sub['ChannelId'].str.split('_').str[1]\n",
        "\n",
        "# ENCODE NUMERICAL COLUMNS TO INTEGERS FOR TEST DATA\n",
        "test_sub['TransactionId'] = test_sub['TransactionId'].str.split('_').str[1]\n",
        "\n",
        "test_sub['ProviderId'] = test_sub['ProviderId'].str.split('_').str[1]\n",
        "\n",
        "test_sub['ProductId'] = test_sub['ProductId'].str.split('_').str[1]\n",
        "\n",
        "test_sub['ChannelId'] = test_sub['ChannelId'].str.split('_').str[1]"
      ],
      "execution_count": 0,
      "outputs": []
    },
    {
      "cell_type": "code",
      "metadata": {
        "id": "aWxValU4pAlS",
        "colab_type": "code",
        "colab": {}
      },
      "source": [
        "# SPLIT TRAINING DATA INTO X AND Y\n",
        "train_sub_x = train_sub.drop(['FraudResult'], axis = 1)\n",
        "train_sub_y = train_sub['FraudResult']"
      ],
      "execution_count": 0,
      "outputs": []
    },
    {
      "cell_type": "code",
      "metadata": {
        "id": "99w-Ano3pAlU",
        "colab_type": "code",
        "colab": {}
      },
      "source": [
        "# CONCATENATE TRAINING AND TEST DATA TO ENCODE\n",
        "train_sub_x['train'] = 1\n",
        "test_sub['train'] = 0\n",
        "\n",
        "combined = pd.concat([train_sub_x, test_sub])"
      ],
      "execution_count": 0,
      "outputs": []
    },
    {
      "cell_type": "code",
      "metadata": {
        "id": "XK3b0q_FpAlX",
        "colab_type": "code",
        "colab": {}
      },
      "source": [
        "# ENCODE CATEGORICAL COLUMNS\n",
        "combined = pd.get_dummies(combined, columns = [\"ProductCategory\", \"ProviderId\", \"ProductId\", \"ChannelId\", \"PricingStrategy\"])"
      ],
      "execution_count": 0,
      "outputs": []
    },
    {
      "cell_type": "code",
      "metadata": {
        "id": "BF56ygm8pAla",
        "colab_type": "code",
        "colab": {}
      },
      "source": [
        "# SPLIT BACK INTO TRAINING AND TEST DATA\n",
        "train_sub_x = combined[combined['train'] == 1]\n",
        "train_sub_x.drop(['train'], axis = 1, inplace = True)\n",
        "\n",
        "test_sub = combined[combined['train'] == 0]\n",
        "test_sub.drop(['train'], axis = 1, inplace = True)"
      ],
      "execution_count": 0,
      "outputs": []
    },
    {
      "cell_type": "code",
      "metadata": {
        "id": "4EUblftxpAld",
        "colab_type": "code",
        "colab": {}
      },
      "source": [
        "# SAMPLING\n",
        "\n",
        "temp = train_sub_x.copy()\n",
        "temp['FraudResult'] = train_sub_y\n",
        "\n",
        "majority = temp[temp['FraudResult'] == 0]\n",
        "minority = temp[temp['FraudResult'] == 1]\n",
        "\n",
        "# UPSAMPLE MINORITY CLASS\n",
        "minority_upsampled = resample(minority, replace = True, n_samples = len(majority))\n",
        "\n",
        "# COMBINE MAJORITY WITH UPSAMPLED MINORITY\n",
        "upsampled = pd.concat([majority, minority_upsampled])"
      ],
      "execution_count": 0,
      "outputs": []
    },
    {
      "cell_type": "code",
      "metadata": {
        "id": "Z-MCXSjBpAlg",
        "colab_type": "code",
        "colab": {}
      },
      "source": [
        "# SPLIT UPSAMPLED DATA INTO X AND Y\n",
        "train_sub_x = upsampled.drop(['FraudResult'], axis = 1)\n",
        "train_sub_y = upsampled['FraudResult']"
      ],
      "execution_count": 0,
      "outputs": []
    },
    {
      "cell_type": "code",
      "metadata": {
        "id": "7uAZV8C9pAlj",
        "colab_type": "code",
        "colab": {},
        "outputId": "e4ff3707-b1d9-4805-8f45-4968b292c25c"
      },
      "source": [
        "# COUNTS\n",
        "train_sub_y.value_counts()"
      ],
      "execution_count": 0,
      "outputs": [
        {
          "output_type": "execute_result",
          "data": {
            "text/plain": [
              "1    95469\n",
              "0    95469\n",
              "Name: FraudResult, dtype: int64"
            ]
          },
          "metadata": {
            "tags": []
          },
          "execution_count": 77
        }
      ]
    },
    {
      "cell_type": "code",
      "metadata": {
        "id": "EhtgxoTGpAlo",
        "colab_type": "code",
        "colab": {}
      },
      "source": [
        "# CREATE RANDOM FOREST MODEL\n",
        "rf = RandomForestClassifier(n_estimators = 200, criterion = 'entropy')\n",
        "\n",
        "# FIT DATA\n",
        "rf.fit(train_sub_x, train_sub_y)\n",
        "\n",
        "# PREDICT\n",
        "y_pred = rf.predict(test_sub)"
      ],
      "execution_count": 0,
      "outputs": []
    },
    {
      "cell_type": "code",
      "metadata": {
        "id": "LAdyhvkwpAlq",
        "colab_type": "code",
        "colab": {}
      },
      "source": [
        "# COMPILE SUBMISSION FILE\n",
        "submission_id = 'TransactionId_' + test_sub['TransactionId'].values\n",
        "submission = pd.DataFrame(list(zip(submission_id, y_pred)), columns =['TransactionId', 'FraudResult']) \n",
        "submission.to_csv('submission.csv', index=False)"
      ],
      "execution_count": 0,
      "outputs": []
    }
  ]
}